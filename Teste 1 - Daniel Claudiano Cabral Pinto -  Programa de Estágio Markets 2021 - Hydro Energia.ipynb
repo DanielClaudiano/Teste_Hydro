{
 "cells": [
  {
   "cell_type": "markdown",
   "metadata": {},
   "source": [
    "## **  Importando Pandas e Base de Dados**"
   ]
  },
  {
   "cell_type": "code",
   "execution_count": 2,
   "metadata": {
    "scrolled": true
   },
   "outputs": [],
   "source": [
    "#importando pacote\n",
    "import pandas as pd\n",
    "#Criando dataframe \n",
    "df = pd.read_csv(r'C:\\Users\\Daniel\\Downloads\\Prices_Hydro_20190721.csv')\n"
   ]
  },
  {
   "cell_type": "markdown",
   "metadata": {},
   "source": [
    "## ** Obtendo as características dos dados**"
   ]
  },
  {
   "cell_type": "code",
   "execution_count": 3,
   "metadata": {},
   "outputs": [
    {
     "name": "stdout",
     "output_type": "stream",
     "text": [
      "<class 'pandas.core.frame.DataFrame'>\n",
      "RangeIndex: 3904 entries, 0 to 3903\n",
      "Data columns (total 5 columns):\n",
      "Target_label    3904 non-null object\n",
      "Scenarios_id    3904 non-null object\n",
      "System          3904 non-null object\n",
      "PMO_Stage       3904 non-null object\n",
      "value           3892 non-null float64\n",
      "dtypes: float64(1), object(4)\n",
      "memory usage: 152.6+ KB\n"
     ]
    }
   ],
   "source": [
    "df.info()"
   ]
  },
  {
   "cell_type": "markdown",
   "metadata": {},
   "source": [
    "## **Verificando a presença de valores nulos**"
   ]
  },
  {
   "cell_type": "code",
   "execution_count": 4,
   "metadata": {},
   "outputs": [
    {
     "data": {
      "text/plain": [
       "Target_label     0\n",
       "Scenarios_id     0\n",
       "System           0\n",
       "PMO_Stage        0\n",
       "value           12\n",
       "dtype: int64"
      ]
     },
     "execution_count": 4,
     "metadata": {},
     "output_type": "execute_result"
    }
   ],
   "source": [
    "df.isnull().sum()"
   ]
  },
  {
   "cell_type": "markdown",
   "metadata": {},
   "source": [
    "## **Verificando a presença de valores duplicados**"
   ]
  },
  {
   "cell_type": "code",
   "execution_count": 5,
   "metadata": {},
   "outputs": [
    {
     "data": {
      "text/plain": [
       "0"
      ]
     },
     "execution_count": 5,
     "metadata": {},
     "output_type": "execute_result"
    }
   ],
   "source": [
    "sum(df.duplicated())"
   ]
  },
  {
   "cell_type": "markdown",
   "metadata": {},
   "source": [
    "## **Extraindo a amostra de interesse**"
   ]
  },
  {
   "cell_type": "code",
   "execution_count": 11,
   "metadata": {},
   "outputs": [],
   "source": [
    "\n",
    "subset0 = df.query('PMO_Stage == \"Month\"')\n",
    "subset1 = subset0[subset0['Scenarios_id'].str.contains('GFS-ETA')]\n",
    "\n"
   ]
  },
  {
   "cell_type": "markdown",
   "metadata": {},
   "source": [
    "## **Verificando a presença de valores nulos na amostra selecionada**"
   ]
  },
  {
   "cell_type": "code",
   "execution_count": 170,
   "metadata": {},
   "outputs": [
    {
     "data": {
      "text/plain": [
       "Target_label    0\n",
       "Scenarios_id    0\n",
       "System          0\n",
       "PMO_Stage       0\n",
       "value           0\n",
       "dtype: int64"
      ]
     },
     "execution_count": 170,
     "metadata": {},
     "output_type": "execute_result"
    }
   ],
   "source": [
    "subset1.isnull().sum()"
   ]
  },
  {
   "cell_type": "markdown",
   "metadata": {},
   "source": [
    "## **Dataframe baseada no exemplo dado**"
   ]
  },
  {
   "cell_type": "code",
   "execution_count": 191,
   "metadata": {},
   "outputs": [
    {
     "data": {
      "text/html": [
       "<div>\n",
       "<style scoped>\n",
       "    .dataframe tbody tr th:only-of-type {\n",
       "        vertical-align: middle;\n",
       "    }\n",
       "\n",
       "    .dataframe tbody tr th {\n",
       "        vertical-align: top;\n",
       "    }\n",
       "\n",
       "    .dataframe thead th {\n",
       "        text-align: right;\n",
       "    }\n",
       "</style>\n",
       "<table border=\"1\" class=\"dataframe\">\n",
       "  <thead>\n",
       "    <tr style=\"text-align: right;\">\n",
       "      <th>Target label</th>\n",
       "      <th>Jul-19</th>\n",
       "      <th>Aug-19</th>\n",
       "      <th>Sep-19</th>\n",
       "      <th>Oct-19</th>\n",
       "      <th>Nov-19</th>\n",
       "      <th>Dec-19</th>\n",
       "      <th>Jul-19</th>\n",
       "      <th>Aug-19</th>\n",
       "      <th>Sep-19</th>\n",
       "      <th>Oct-19</th>\n",
       "      <th>...</th>\n",
       "      <th>Sep-19</th>\n",
       "      <th>Oct-19</th>\n",
       "      <th>Nov-19</th>\n",
       "      <th>Dec-19</th>\n",
       "      <th>Jul-19</th>\n",
       "      <th>Aug-19</th>\n",
       "      <th>Sep-19</th>\n",
       "      <th>Oct-19</th>\n",
       "      <th>Nov-19</th>\n",
       "      <th>Dec-19</th>\n",
       "    </tr>\n",
       "  </thead>\n",
       "  <tbody>\n",
       "    <tr>\n",
       "      <th>System</th>\n",
       "      <td>N</td>\n",
       "      <td>N</td>\n",
       "      <td>N</td>\n",
       "      <td>N</td>\n",
       "      <td>N</td>\n",
       "      <td>N</td>\n",
       "      <td>NE</td>\n",
       "      <td>NE</td>\n",
       "      <td>NE</td>\n",
       "      <td>NE</td>\n",
       "      <td>...</td>\n",
       "      <td>S</td>\n",
       "      <td>S</td>\n",
       "      <td>S</td>\n",
       "      <td>S</td>\n",
       "      <td>SE</td>\n",
       "      <td>SE</td>\n",
       "      <td>SE</td>\n",
       "      <td>SE</td>\n",
       "      <td>SE</td>\n",
       "      <td>SE</td>\n",
       "    </tr>\n",
       "    <tr>\n",
       "      <th>Average</th>\n",
       "      <td>180.38</td>\n",
       "      <td>197.147</td>\n",
       "      <td>168.48</td>\n",
       "      <td>140.583</td>\n",
       "      <td>116.829</td>\n",
       "      <td>87.8233</td>\n",
       "      <td>180.38</td>\n",
       "      <td>197.147</td>\n",
       "      <td>168.48</td>\n",
       "      <td>140.583</td>\n",
       "      <td>...</td>\n",
       "      <td>162.854</td>\n",
       "      <td>134.28</td>\n",
       "      <td>116.074</td>\n",
       "      <td>87.8233</td>\n",
       "      <td>180.38</td>\n",
       "      <td>197.147</td>\n",
       "      <td>168.48</td>\n",
       "      <td>140.583</td>\n",
       "      <td>116.829</td>\n",
       "      <td>87.8233</td>\n",
       "    </tr>\n",
       "    <tr>\n",
       "      <th>Median</th>\n",
       "      <td>180.638</td>\n",
       "      <td>199.393</td>\n",
       "      <td>162.782</td>\n",
       "      <td>134.427</td>\n",
       "      <td>115.743</td>\n",
       "      <td>88.6452</td>\n",
       "      <td>180.638</td>\n",
       "      <td>199.393</td>\n",
       "      <td>162.782</td>\n",
       "      <td>134.427</td>\n",
       "      <td>...</td>\n",
       "      <td>162.782</td>\n",
       "      <td>134.427</td>\n",
       "      <td>115.743</td>\n",
       "      <td>88.6452</td>\n",
       "      <td>180.638</td>\n",
       "      <td>199.393</td>\n",
       "      <td>162.782</td>\n",
       "      <td>134.427</td>\n",
       "      <td>115.743</td>\n",
       "      <td>88.6452</td>\n",
       "    </tr>\n",
       "  </tbody>\n",
       "</table>\n",
       "<p>3 rows × 24 columns</p>\n",
       "</div>"
      ],
      "text/plain": [
       "Target label   Jul-19   Aug-19   Sep-19   Oct-19   Nov-19   Dec-19   Jul-19  \\\n",
       "System              N        N        N        N        N        N       NE   \n",
       "Average        180.38  197.147   168.48  140.583  116.829  87.8233   180.38   \n",
       "Median        180.638  199.393  162.782  134.427  115.743  88.6452  180.638   \n",
       "\n",
       "Target label   Aug-19   Sep-19   Oct-19   ...      Sep-19   Oct-19   Nov-19  \\\n",
       "System             NE       NE       NE   ...           S        S        S   \n",
       "Average       197.147   168.48  140.583   ...     162.854   134.28  116.074   \n",
       "Median        199.393  162.782  134.427   ...     162.782  134.427  115.743   \n",
       "\n",
       "Target label   Dec-19   Jul-19   Aug-19   Sep-19   Oct-19   Nov-19   Dec-19  \n",
       "System              S       SE       SE       SE       SE       SE       SE  \n",
       "Average       87.8233   180.38  197.147   168.48  140.583  116.829  87.8233  \n",
       "Median        88.6452  180.638  199.393  162.782  134.427  115.743  88.6452  \n",
       "\n",
       "[3 rows x 24 columns]"
      ]
     },
     "execution_count": 191,
     "metadata": {},
     "output_type": "execute_result"
    }
   ],
   "source": [
    "#Obtendo as médias por segmento\n",
    "df_results = subset1.groupby(['Target_label','System'],as_index =False)['value'].mean()\n",
    "#Obtendo as medianas por segmento\n",
    "df_results2 = subset1.groupby(['Target_label','System'],as_index =False)['value'].median()\n",
    "#Unindo os dois dataframes anteriores\n",
    "df_final = pd.merge(df_results, df_results2, left_on=['Target_label','System'], right_on=['Target_label','System'],suffixes=('_L','_R'))\n",
    "#Atribuindo novos nomes as colunas\n",
    "new_labels= ['Target label','System','Average','Median']\n",
    "df_final.columns = new_labels\n",
    "#Ordenando o dataframe\n",
    "import numpy as np\n",
    "df_final[\"Month\"] = np.repeat([8,12,7,11,10,9],4)\n",
    "df_final[\"Region\"] = np.array(list(np.arange(0,4))*6)\n",
    "df_final.sort_values([\"Region\",\"Month\"], ascending=[True,True],inplace=True)\n",
    "df_final.drop([\"Region\",\"Month\"], axis=1, inplace=True)\n",
    "#df_final.sort_values([\"Month\",\"System\"], ascending=[True,True],inplace=True)\n",
    "#df_final.drop('Month', axis=1, inplace=True)\n",
    "df_final.set_index('Target label',inplace=True)\n",
    "df_final = df_final.transpose()\n",
    "df_final"
   ]
  },
  {
   "cell_type": "markdown",
   "metadata": {},
   "source": [
    "## **Alternativa**"
   ]
  },
  {
   "cell_type": "code",
   "execution_count": 188,
   "metadata": {},
   "outputs": [],
   "source": [
    "A_df_final = df_final.transpose()\n",
    "#sugested_df_final = pd.merge(df_results, df_results2, left_on=['Target_label','System'], right_on=['Target_label','System'],suffixes=('_L','_R'))\n",
    "#sugested_df_final.columns = new_labels\n",
    "#sugested_df_final[\"Month\"] = np.repeat([8,12,7,11,10,9],4)\n",
    "#sugested_df_final[\"Region\"] = np.array(list(np.arange(0,4))*6)\n",
    "#sugested_df_final.sort_values([\"Region\",\"Month\"], ascending=[True,True],inplace=True)\n",
    "#sugested_df_final.drop([\"Region\",\"Month\"], axis=1, inplace=True)\n"
   ]
  },
  {
   "cell_type": "code",
   "execution_count": 189,
   "metadata": {},
   "outputs": [
    {
     "data": {
      "text/html": [
       "<div>\n",
       "<style scoped>\n",
       "    .dataframe tbody tr th:only-of-type {\n",
       "        vertical-align: middle;\n",
       "    }\n",
       "\n",
       "    .dataframe tbody tr th {\n",
       "        vertical-align: top;\n",
       "    }\n",
       "\n",
       "    .dataframe thead th {\n",
       "        text-align: right;\n",
       "    }\n",
       "</style>\n",
       "<table border=\"1\" class=\"dataframe\">\n",
       "  <thead>\n",
       "    <tr style=\"text-align: right;\">\n",
       "      <th></th>\n",
       "      <th>System</th>\n",
       "      <th>Average</th>\n",
       "      <th>Median</th>\n",
       "    </tr>\n",
       "    <tr>\n",
       "      <th>Target label</th>\n",
       "      <th></th>\n",
       "      <th></th>\n",
       "      <th></th>\n",
       "    </tr>\n",
       "  </thead>\n",
       "  <tbody>\n",
       "    <tr>\n",
       "      <th>Jul-19</th>\n",
       "      <td>N</td>\n",
       "      <td>180.38</td>\n",
       "      <td>180.638</td>\n",
       "    </tr>\n",
       "    <tr>\n",
       "      <th>Aug-19</th>\n",
       "      <td>N</td>\n",
       "      <td>197.147</td>\n",
       "      <td>199.393</td>\n",
       "    </tr>\n",
       "    <tr>\n",
       "      <th>Sep-19</th>\n",
       "      <td>N</td>\n",
       "      <td>168.48</td>\n",
       "      <td>162.782</td>\n",
       "    </tr>\n",
       "    <tr>\n",
       "      <th>Oct-19</th>\n",
       "      <td>N</td>\n",
       "      <td>140.583</td>\n",
       "      <td>134.427</td>\n",
       "    </tr>\n",
       "    <tr>\n",
       "      <th>Nov-19</th>\n",
       "      <td>N</td>\n",
       "      <td>116.829</td>\n",
       "      <td>115.743</td>\n",
       "    </tr>\n",
       "    <tr>\n",
       "      <th>Dec-19</th>\n",
       "      <td>N</td>\n",
       "      <td>87.8233</td>\n",
       "      <td>88.6452</td>\n",
       "    </tr>\n",
       "    <tr>\n",
       "      <th>Jul-19</th>\n",
       "      <td>NE</td>\n",
       "      <td>180.38</td>\n",
       "      <td>180.638</td>\n",
       "    </tr>\n",
       "    <tr>\n",
       "      <th>Aug-19</th>\n",
       "      <td>NE</td>\n",
       "      <td>197.147</td>\n",
       "      <td>199.393</td>\n",
       "    </tr>\n",
       "    <tr>\n",
       "      <th>Sep-19</th>\n",
       "      <td>NE</td>\n",
       "      <td>168.48</td>\n",
       "      <td>162.782</td>\n",
       "    </tr>\n",
       "    <tr>\n",
       "      <th>Oct-19</th>\n",
       "      <td>NE</td>\n",
       "      <td>140.583</td>\n",
       "      <td>134.427</td>\n",
       "    </tr>\n",
       "    <tr>\n",
       "      <th>Nov-19</th>\n",
       "      <td>NE</td>\n",
       "      <td>116.829</td>\n",
       "      <td>115.743</td>\n",
       "    </tr>\n",
       "    <tr>\n",
       "      <th>Dec-19</th>\n",
       "      <td>NE</td>\n",
       "      <td>87.8233</td>\n",
       "      <td>88.6452</td>\n",
       "    </tr>\n",
       "    <tr>\n",
       "      <th>Jul-19</th>\n",
       "      <td>S</td>\n",
       "      <td>180.38</td>\n",
       "      <td>180.638</td>\n",
       "    </tr>\n",
       "    <tr>\n",
       "      <th>Aug-19</th>\n",
       "      <td>S</td>\n",
       "      <td>195.333</td>\n",
       "      <td>199.393</td>\n",
       "    </tr>\n",
       "    <tr>\n",
       "      <th>Sep-19</th>\n",
       "      <td>S</td>\n",
       "      <td>162.854</td>\n",
       "      <td>162.782</td>\n",
       "    </tr>\n",
       "    <tr>\n",
       "      <th>Oct-19</th>\n",
       "      <td>S</td>\n",
       "      <td>134.28</td>\n",
       "      <td>134.427</td>\n",
       "    </tr>\n",
       "    <tr>\n",
       "      <th>Nov-19</th>\n",
       "      <td>S</td>\n",
       "      <td>116.074</td>\n",
       "      <td>115.743</td>\n",
       "    </tr>\n",
       "    <tr>\n",
       "      <th>Dec-19</th>\n",
       "      <td>S</td>\n",
       "      <td>87.8233</td>\n",
       "      <td>88.6452</td>\n",
       "    </tr>\n",
       "    <tr>\n",
       "      <th>Jul-19</th>\n",
       "      <td>SE</td>\n",
       "      <td>180.38</td>\n",
       "      <td>180.638</td>\n",
       "    </tr>\n",
       "    <tr>\n",
       "      <th>Aug-19</th>\n",
       "      <td>SE</td>\n",
       "      <td>197.147</td>\n",
       "      <td>199.393</td>\n",
       "    </tr>\n",
       "    <tr>\n",
       "      <th>Sep-19</th>\n",
       "      <td>SE</td>\n",
       "      <td>168.48</td>\n",
       "      <td>162.782</td>\n",
       "    </tr>\n",
       "    <tr>\n",
       "      <th>Oct-19</th>\n",
       "      <td>SE</td>\n",
       "      <td>140.583</td>\n",
       "      <td>134.427</td>\n",
       "    </tr>\n",
       "    <tr>\n",
       "      <th>Nov-19</th>\n",
       "      <td>SE</td>\n",
       "      <td>116.829</td>\n",
       "      <td>115.743</td>\n",
       "    </tr>\n",
       "    <tr>\n",
       "      <th>Dec-19</th>\n",
       "      <td>SE</td>\n",
       "      <td>87.8233</td>\n",
       "      <td>88.6452</td>\n",
       "    </tr>\n",
       "  </tbody>\n",
       "</table>\n",
       "</div>"
      ],
      "text/plain": [
       "             System  Average   Median\n",
       "Target label                         \n",
       "Jul-19            N   180.38  180.638\n",
       "Aug-19            N  197.147  199.393\n",
       "Sep-19            N   168.48  162.782\n",
       "Oct-19            N  140.583  134.427\n",
       "Nov-19            N  116.829  115.743\n",
       "Dec-19            N  87.8233  88.6452\n",
       "Jul-19           NE   180.38  180.638\n",
       "Aug-19           NE  197.147  199.393\n",
       "Sep-19           NE   168.48  162.782\n",
       "Oct-19           NE  140.583  134.427\n",
       "Nov-19           NE  116.829  115.743\n",
       "Dec-19           NE  87.8233  88.6452\n",
       "Jul-19            S   180.38  180.638\n",
       "Aug-19            S  195.333  199.393\n",
       "Sep-19            S  162.854  162.782\n",
       "Oct-19            S   134.28  134.427\n",
       "Nov-19            S  116.074  115.743\n",
       "Dec-19            S  87.8233  88.6452\n",
       "Jul-19           SE   180.38  180.638\n",
       "Aug-19           SE  197.147  199.393\n",
       "Sep-19           SE   168.48  162.782\n",
       "Oct-19           SE  140.583  134.427\n",
       "Nov-19           SE  116.829  115.743\n",
       "Dec-19           SE  87.8233  88.6452"
      ]
     },
     "execution_count": 189,
     "metadata": {},
     "output_type": "execute_result"
    }
   ],
   "source": [
    "A_df_final"
   ]
  }
 ],
 "metadata": {
  "kernelspec": {
   "display_name": "Python 3",
   "language": "python",
   "name": "python3"
  },
  "language_info": {
   "codemirror_mode": {
    "name": "ipython",
    "version": 3
   },
   "file_extension": ".py",
   "mimetype": "text/x-python",
   "name": "python",
   "nbconvert_exporter": "python",
   "pygments_lexer": "ipython3",
   "version": "3.6.4"
  }
 },
 "nbformat": 4,
 "nbformat_minor": 2
}
